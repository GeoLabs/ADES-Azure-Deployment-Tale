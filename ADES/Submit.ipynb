{
 "cells": [
  {
   "cell_type": "markdown",
   "metadata": {},
   "source": [
    "# Submit a processing job\n",
    "\n",
    "In this section, we will create a processing job a from the previously [deployed application](Deploy an application).\n",
    "\n",
    "## Prepare the job order payload\n",
    "\n",
    "We first create the job order JSON file `job_order.json` describing our input parameters following thew input specification from the processing services description.\n",
    "\n",
    "\n",
    "\n",
    "Let's submit the job order with a curl command line using the OGC API interface\n",
    "\n"
   ]
  },
  {
   "cell_type": "code",
   "execution_count": null,
   "metadata": {},
   "outputs": [],
   "source": [
    "!cat ./job_order.json"
   ]
  },
  {
   "cell_type": "code",
   "execution_count": 27,
   "metadata": {},
   "outputs": [
    {
     "name": "stdout",
     "output_type": "stream",
     "text": [
      "*   Trying 127.0.0.1...\n",
      "* TCP_NODELAY set\n",
      "* Connected to 127.0.0.1 (127.0.0.1) port 8080 (#0)\n",
      "> POST /djay/wps3/processes/snuggs-0_3_0/jobs HTTP/1.1\n",
      "> Host: 127.0.0.1:8080\n",
      "> User-Agent: curl/7.58.0\n",
      "> accept: application/json\n",
      "> Prefer: respond-async\n",
      "> Content-Type: application/json\n",
      "> Content-Length: 884\n",
      "> Expect: 100-continue\n",
      "> \n",
      "< HTTP/1.1 100 Continue\n",
      "* We are completely uploaded and fine\n",
      "< HTTP/1.1 201 Created \n",
      "< Date: Tue, 07 Jun 2022 11:57:52 GMT\n",
      "< Server: Apache/2.4.6 (CentOS)\n",
      "< X-Powered-By: ZOO@ZOO-Project\n",
      "< Location: /djay/watchjob/processes/snuggs-0_3_0/jobs/0f71b456-e659-11ec-9ed2-ee5865a852f9\n",
      "< Transfer-Encoding: chunked\n",
      "< Content-Type: application/json;charset=UTF-8\n",
      "< \n",
      "* Connection #0 to host 127.0.0.1 left intact\n"
     ]
    }
   ],
   "source": [
    "!curl -v -L -X POST \"http://127.0.0.1:8080/djay/wps3/processes/snuggs-0_3_0/jobs\" \\\n",
    "    -H \"accept: application/json\" -H  \"Prefer: respond-async\" -H  \"Content-Type: application/json\" \\\n",
    "    -T ./job_order.json"
   ]
  },
  {
   "cell_type": "markdown",
   "metadata": {},
   "source": [
    "The command line's result should be similar to\n",
    "\n",
    "*TODO << place here the response with the redirect to the get status >>*\n",
    "\n",
    "The server replied with a `HTTP 201 created` acknowledging the job sucessfully created.\n",
    "*It also contains a redirect link to the job on the ADES*\n",
    "\n",
    "We also can see the newly created job by querying the current job list.\n",
    "\n"
   ]
  },
  {
   "cell_type": "code",
   "execution_count": 29,
   "metadata": {},
   "outputs": [
    {
     "name": "stdout",
     "output_type": "stream",
     "text": [
      "\u001b[1;39m[\n",
      "  \u001b[1;39m{\n",
      "    \u001b[0m\u001b[34;1m\"id\"\u001b[0m\u001b[1;39m: \u001b[0m\u001b[0;32m\"b2714c22-e64d-11ec-9ad3-ee5865a852f9\"\u001b[0m\u001b[1;39m,\n",
      "    \u001b[0m\u001b[34;1m\"infos\"\u001b[0m\u001b[1;39m: \u001b[0m\u001b[1;39m{\n",
      "      \u001b[0m\u001b[34;1m\"status\"\u001b[0m\u001b[1;39m: \u001b[0m\u001b[0;32m\"successful\"\u001b[0m\u001b[1;39m,\n",
      "      \u001b[0m\u001b[34;1m\"message\"\u001b[0m\u001b[1;39m: \u001b[0m\u001b[0;32m\"ZOO-Kernel successfully ran your service!\"\u001b[0m\u001b[1;39m,\n",
      "      \u001b[0m\u001b[34;1m\"links\"\u001b[0m\u001b[1;39m: \u001b[0m\u001b[1;39m[\n",
      "        \u001b[1;39m{\n",
      "          \u001b[0m\u001b[34;1m\"Title\"\u001b[0m\u001b[1;39m: \u001b[0m\u001b[0;32m\"Status location\"\u001b[0m\u001b[1;39m,\n",
      "          \u001b[0m\u001b[34;1m\"href\"\u001b[0m\u001b[1;39m: \u001b[0m\u001b[0;32m\"/djay/watchjob/processes/snuggs-0_3_0/jobs/b2714c22-e64d-11ec-9ad3-ee5865a852f9\"\u001b[0m\u001b[1;39m\n",
      "        \u001b[1;39m}\u001b[0m\u001b[1;39m,\n",
      "        \u001b[1;39m{\n",
      "          \u001b[0m\u001b[34;1m\"Title\"\u001b[0m\u001b[1;39m: \u001b[0m\u001b[0;32m\"Result location\"\u001b[0m\u001b[1;39m,\n",
      "          \u001b[0m\u001b[34;1m\"href\"\u001b[0m\u001b[1;39m: \u001b[0m\u001b[0;32m\"/djay/watchjob/processes/snuggs-0_3_0/jobs/b2714c22-e64d-11ec-9ad3-ee5865a852f9/result\"\u001b[0m\u001b[1;39m\n",
      "        \u001b[1;39m}\u001b[0m\u001b[1;39m\n",
      "      \u001b[1;39m]\u001b[0m\u001b[1;39m\n",
      "    \u001b[1;39m}\u001b[0m\u001b[1;39m\n",
      "  \u001b[1;39m}\u001b[0m\u001b[1;39m,\n",
      "  \u001b[1;39m{\n",
      "    \u001b[0m\u001b[34;1m\"id\"\u001b[0m\u001b[1;39m: \u001b[0m\u001b[0;32m\"0f71b456-e659-11ec-9ed2-ee5865a852f9\"\u001b[0m\u001b[1;39m,\n",
      "    \u001b[0m\u001b[34;1m\"infos\"\u001b[0m\u001b[1;39m: \u001b[0m\u001b[1;39m{\n",
      "      \u001b[0m\u001b[34;1m\"status\"\u001b[0m\u001b[1;39m: \u001b[0m\u001b[0;32m\"successful\"\u001b[0m\u001b[1;39m,\n",
      "      \u001b[0m\u001b[34;1m\"message\"\u001b[0m\u001b[1;39m: \u001b[0m\u001b[0;32m\"ZOO-Kernel is currently running your service!\"\u001b[0m\u001b[1;39m,\n",
      "      \u001b[0m\u001b[34;1m\"links\"\u001b[0m\u001b[1;39m: \u001b[0m\u001b[1;39m[\n",
      "        \u001b[1;39m{\n",
      "          \u001b[0m\u001b[34;1m\"Title\"\u001b[0m\u001b[1;39m: \u001b[0m\u001b[0;32m\"Status location\"\u001b[0m\u001b[1;39m,\n",
      "          \u001b[0m\u001b[34;1m\"href\"\u001b[0m\u001b[1;39m: \u001b[0m\u001b[0;32m\"/djay/watchjob/processes/snuggs-0_3_0/jobs/0f71b456-e659-11ec-9ed2-ee5865a852f9\"\u001b[0m\u001b[1;39m\n",
      "        \u001b[1;39m}\u001b[0m\u001b[1;39m\n",
      "      \u001b[1;39m]\u001b[0m\u001b[1;39m\n",
      "    \u001b[1;39m}\u001b[0m\u001b[1;39m\n",
      "  \u001b[1;39m}\u001b[0m\u001b[1;39m\n",
      "\u001b[1;39m]\u001b[0m\n"
     ]
    }
   ],
   "source": [
    "!curl -s -L \"http://127.0.0.1:8080/djay/wps3/processes/snuggs-0_3_0/jobs\" -H \"accept: application/json\" | jq"
   ]
  },
  {
   "cell_type": "markdown",
   "metadata": {},
   "source": [
    "\n",
    "And the result should include a new job with the same identifier returned by the job submission query\n",
    "\n",
    "```json\n",
    "[\n",
    "  ...\n",
    "  {\n",
    "    \"id\": \"06223bbe-9e9e-11ea-8f64-a0c5899f98fe\",\n",
    "    \"infos\": {\n",
    "      \"status\": \"successful\",\n",
    "      \"message\": \"ZOO-Kernel successfully run your service!\",\n",
    "      \"links\": [\n",
    "        {\n",
    "          \"Title\": \"Status location\",\n",
    "          \"href\": \"/watchjob/processes/snuggs-0_3_0/jobs/06223bbe-9e9e-11ea-8f64-a0c5899f98fe\"\n",
    "        },\n",
    "        {\n",
    "          \"Title\": \"Result location\",\n",
    "          \"href\": \"/watchjob/processes/snuggs-0_3_0/jobs/06223bbe-9e9e-11ea-8f64-a0c5899f98fe/result\"\n",
    "        }\n",
    "      ]\n",
    "    }\n",
    "  }\n",
    "  ...\n",
    "]\n",
    "\n",
    "```\n",
    "\n",
    "We can see 2 links in the response:\n",
    "\n",
    "1. A status location where we can poll regurarly the status of this job\n",
    " \n",
    "    ```sh\n",
    "    curl -s -L \"http://HOSTNAME:PORT/WORKSPACE_NAME/watchjob/processes/snuggs-0_3_0/jobs/06223bbe-9e9e-11ea-8f64-a0c5899f98fe\" -H \"accept: application/json\"\n",
    "    ```\n",
    "2. A result location available when the job is complete\n",
    "\n",
    "    ```sh\n",
    "    curl -s -L \"http://HOSTNAME:PORT/WORKSPACE_NAME/watchjob/processes/snuggs-0_3_0/jobs/06223bbe-9e9e-11ea-8f64-a0c5899f98fe/result\" -H \"accept: application/json\"\n",
    "    ```\n",
    "\n",
    "This last link will return the following response when the job is complete\n",
    "\n",
    "```json\n",
    "{\n",
    "    \"outputs\": [\n",
    "        {\n",
    "            \"id\": \"wf_outputs\",\n",
    "            \"time\": \"2021-09-30T16:03:42.801714Z\",\n",
    "            \"value\": {\n",
    "                \"inlineValue\": \"{\\\"StacCatalogUri\\\": \\\"s3://ada6b03cde1846678c9ac78dfb4067c6:demo-user-bob/wf-4df4c428-21f3-11ec-9c97-4aeb5f6e9bf7/catalog.json\\\"}\"\n",
    "            }\n",
    "        }\n",
    "    ]\n",
    "}\n",
    "```\n",
    "\n",
    "It includes a link to the catalog entry of the result and a link to the resource manager hosting the processing results."
   ]
  },
  {
   "cell_type": "code",
   "execution_count": 30,
   "metadata": {},
   "outputs": [
    {
     "name": "stdout",
     "output_type": "stream",
     "text": [
      "\u001b[1;39m{\n",
      "  \u001b[0m\u001b[34;1m\"jobID\"\u001b[0m\u001b[1;39m: \u001b[0m\u001b[0;32m\"b2714c22-e64d-11ec-9ad3-ee5865a852f9\"\u001b[0m\u001b[1;39m,\n",
      "  \u001b[0m\u001b[34;1m\"started\"\u001b[0m\u001b[1;39m: \u001b[0m\u001b[0;32m\"2022-06-07T10:36:32.228259Z\"\u001b[0m\u001b[1;39m,\n",
      "  \u001b[0m\u001b[34;1m\"finished\"\u001b[0m\u001b[1;39m: \u001b[0m\u001b[0;32m\"2022-06-07T11:10:24.001372Z\"\u001b[0m\u001b[1;39m,\n",
      "  \u001b[0m\u001b[34;1m\"status\"\u001b[0m\u001b[1;39m: \u001b[0m\u001b[0;32m\"successful\"\u001b[0m\u001b[1;39m,\n",
      "  \u001b[0m\u001b[34;1m\"message\"\u001b[0m\u001b[1;39m: \u001b[0m\u001b[0;32m\"Done\"\u001b[0m\u001b[1;39m,\n",
      "  \u001b[0m\u001b[34;1m\"progress\"\u001b[0m\u001b[1;39m: \u001b[0m\u001b[0;32m\"100\"\u001b[0m\u001b[1;39m,\n",
      "  \u001b[0m\u001b[34;1m\"links\"\u001b[0m\u001b[1;39m: \u001b[0m\u001b[1;39m[\n",
      "    \u001b[1;39m{\n",
      "      \u001b[0m\u001b[34;1m\"href\"\u001b[0m\u001b[1;39m: \u001b[0m\u001b[0;32m\"http://127.0.0.1:8080/djay/watchjob/processes/snuggs-0_3_0/jobs/b2714c22-e64d-11ec-9ad3-ee5865a852f9\"\u001b[0m\u001b[1;39m,\n",
      "      \u001b[0m\u001b[34;1m\"rel\"\u001b[0m\u001b[1;39m: \u001b[0m\u001b[0;32m\"self\"\u001b[0m\u001b[1;39m,\n",
      "      \u001b[0m\u001b[34;1m\"type\"\u001b[0m\u001b[1;39m: \u001b[0m\u001b[0;32m\"application/json\"\u001b[0m\u001b[1;39m,\n",
      "      \u001b[0m\u001b[34;1m\"title\"\u001b[0m\u001b[1;39m: \u001b[0m\u001b[0;32m\"get Status\"\u001b[0m\u001b[1;39m\n",
      "    \u001b[1;39m}\u001b[0m\u001b[1;39m\n",
      "  \u001b[1;39m]\u001b[0m\u001b[1;39m\n",
      "\u001b[1;39m}\u001b[0m\n"
     ]
    }
   ],
   "source": [
    "!curl -s -L \"http://127.0.0.1:8080/djay/watchjob/processes/snuggs-0_3_0/jobs/b2714c22-e64d-11ec-9ad3-ee5865a852f9\" -H \"accept: application/json\" | jq"
   ]
  },
  {
   "cell_type": "code",
   "execution_count": 31,
   "metadata": {},
   "outputs": [
    {
     "name": "stdout",
     "output_type": "stream",
     "text": [
      "\u001b[1;39m{\n",
      "  \u001b[0m\u001b[34;1m\"outputs\"\u001b[0m\u001b[1;39m: \u001b[0m\u001b[1;39m[\n",
      "    \u001b[1;39m{\n",
      "      \u001b[0m\u001b[34;1m\"id\"\u001b[0m\u001b[1;39m: \u001b[0m\u001b[0;32m\"wf_outputs\"\u001b[0m\u001b[1;39m,\n",
      "      \u001b[0m\u001b[34;1m\"time\"\u001b[0m\u001b[1;39m: \u001b[0m\u001b[0;32m\"2022-06-07T11:10:24.002690Z\"\u001b[0m\u001b[1;39m,\n",
      "      \u001b[0m\u001b[34;1m\"value\"\u001b[0m\u001b[1;39m: \u001b[0m\u001b[1;39m{\n",
      "        \u001b[0m\u001b[34;1m\"inlineValue\"\u001b[0m\u001b[1;39m: \u001b[0m\u001b[0;32m\"{\\\"StacCatalogUri\\\": \\\"s3://processingresults/wf-b2714c22-e64d-11ec-9ad3-ee5865a852f9/catalog.json\\\"}\"\u001b[0m\u001b[1;39m\n",
      "      \u001b[1;39m}\u001b[0m\u001b[1;39m\n",
      "    \u001b[1;39m}\u001b[0m\u001b[1;39m\n",
      "  \u001b[1;39m]\u001b[0m\u001b[1;39m\n",
      "\u001b[1;39m}\u001b[0m\n"
     ]
    }
   ],
   "source": [
    "!curl -s -L \"http://127.0.0.1:8080/djay/watchjob/processes/snuggs-0_3_0/jobs/b2714c22-e64d-11ec-9ad3-ee5865a852f9/result\" -H \"accept: application/json\" | jq"
   ]
  },
  {
   "cell_type": "code",
   "execution_count": 3,
   "metadata": {},
   "outputs": [],
   "source": [
    "!cp ../k8s/s3cfg ~/.s3cfg"
   ]
  },
  {
   "cell_type": "code",
   "execution_count": 4,
   "metadata": {},
   "outputs": [
    {
     "name": "stdout",
     "output_type": "stream",
     "text": [
      "download: 's3://processingresults/wf-b2714c22-e64d-11ec-9ad3-ee5865a852f9/catalog.json' -> './catalog.json'  [1 of 1]\n",
      " 393 of 393   100% in    0s     2.98 KB/s  done\n"
     ]
    }
   ],
   "source": [
    "!s3cmd get s3://processingresults/wf-b2714c22-e64d-11ec-9ad3-ee5865a852f9/catalog.json"
   ]
  },
  {
   "cell_type": "code",
   "execution_count": 5,
   "metadata": {},
   "outputs": [
    {
     "name": "stdout",
     "output_type": "stream",
     "text": [
      "\u001b[1;39m{\n",
      "  \u001b[0m\u001b[34;1m\"id\"\u001b[0m\u001b[1;39m: \u001b[0m\u001b[0;32m\"catalog\"\u001b[0m\u001b[1;39m,\n",
      "  \u001b[0m\u001b[34;1m\"stac_version\"\u001b[0m\u001b[1;39m: \u001b[0m\u001b[0;32m\"1.0.0\"\u001b[0m\u001b[1;39m,\n",
      "  \u001b[0m\u001b[34;1m\"links\"\u001b[0m\u001b[1;39m: \u001b[0m\u001b[1;39m[\n",
      "    \u001b[1;39m{\n",
      "      \u001b[0m\u001b[34;1m\"type\"\u001b[0m\u001b[1;39m: \u001b[0m\u001b[0;32m\"application/geo+json\"\u001b[0m\u001b[1;39m,\n",
      "      \u001b[0m\u001b[34;1m\"rel\"\u001b[0m\u001b[1;39m: \u001b[0m\u001b[0;32m\"item\"\u001b[0m\u001b[1;39m,\n",
      "      \u001b[0m\u001b[34;1m\"href\"\u001b[0m\u001b[1;39m: \u001b[0m\u001b[0;32m\"s3://processingresults/wf-b2714c22-e64d-11ec-9ad3-ee5865a852f9/S2B_36RTT_20191205_0_L2A/S2B_36RTT_20191205_0_L2A.json\"\u001b[0m\u001b[1;39m\n",
      "    \u001b[1;39m}\u001b[0m\u001b[1;39m,\n",
      "    \u001b[1;39m{\n",
      "      \u001b[0m\u001b[34;1m\"type\"\u001b[0m\u001b[1;39m: \u001b[0m\u001b[0;32m\"application/json\"\u001b[0m\u001b[1;39m,\n",
      "      \u001b[0m\u001b[34;1m\"rel\"\u001b[0m\u001b[1;39m: \u001b[0m\u001b[0;32m\"self\"\u001b[0m\u001b[1;39m,\n",
      "      \u001b[0m\u001b[34;1m\"href\"\u001b[0m\u001b[1;39m: \u001b[0m\u001b[0;32m\"s3://processingresults/wf-b2714c22-e64d-11ec-9ad3-ee5865a852f9/catalog.json\"\u001b[0m\u001b[1;39m\n",
      "    \u001b[1;39m}\u001b[0m\u001b[1;39m\n",
      "  \u001b[1;39m]\u001b[0m\u001b[1;39m,\n",
      "  \u001b[0m\u001b[34;1m\"type\"\u001b[0m\u001b[1;39m: \u001b[0m\u001b[0;32m\"Catalog\"\u001b[0m\u001b[1;39m,\n",
      "  \u001b[0m\u001b[34;1m\"description\"\u001b[0m\u001b[1;39m: \u001b[0m\u001b[0;32m\"Root catalog\"\u001b[0m\u001b[1;39m\n",
      "\u001b[1;39m}\u001b[0m\n"
     ]
    }
   ],
   "source": [
    "!cat catalog.json | jq"
   ]
  },
  {
   "cell_type": "code",
   "execution_count": 6,
   "metadata": {},
   "outputs": [
    {
     "name": "stdout",
     "output_type": "stream",
     "text": [
      "download: 's3://processingresults/wf-b2714c22-e64d-11ec-9ad3-ee5865a852f9/S2B_36RTT_20191205_0_L2A/S2B_36RTT_20191205_0_L2A.json' -> './S2B_36RTT_20191205_0_L2A.json'  [1 of 1]\n",
      " 1714 of 1714   100% in    0s    12.92 KB/s  done\n"
     ]
    }
   ],
   "source": [
    "!s3cmd get s3://processingresults/wf-b2714c22-e64d-11ec-9ad3-ee5865a852f9/S2B_36RTT_20191205_0_L2A/S2B_36RTT_20191205_0_L2A.json"
   ]
  },
  {
   "cell_type": "code",
   "execution_count": 7,
   "metadata": {},
   "outputs": [
    {
     "name": "stdout",
     "output_type": "stream",
     "text": [
      "\u001b[1;39m{\n",
      "  \u001b[0m\u001b[34;1m\"stac_version\"\u001b[0m\u001b[1;39m: \u001b[0m\u001b[0;32m\"1.0.0\"\u001b[0m\u001b[1;39m,\n",
      "  \u001b[0m\u001b[34;1m\"stac_extensions\"\u001b[0m\u001b[1;39m: \u001b[0m\u001b[1;39m[\n",
      "    \u001b[0;32m\"https://stac-extensions.github.io/eo/v1.0.0/schema.json\"\u001b[0m\u001b[1;39m,\n",
      "    \u001b[0;32m\"https://stac-extensions.github.io/projection/v1.0.0/schema.json\"\u001b[0m\u001b[1;39m,\n",
      "    \u001b[0;32m\"https://stac-extensions.github.io/view/v1.0.0/schema.json\"\u001b[0m\u001b[1;39m\n",
      "  \u001b[1;39m]\u001b[0m\u001b[1;39m,\n",
      "  \u001b[0m\u001b[34;1m\"type\"\u001b[0m\u001b[1;39m: \u001b[0m\u001b[0;32m\"Feature\"\u001b[0m\u001b[1;39m,\n",
      "  \u001b[0m\u001b[34;1m\"id\"\u001b[0m\u001b[1;39m: \u001b[0m\u001b[0;32m\"S2B_36RTT_20191205_0_L2A\"\u001b[0m\u001b[1;39m,\n",
      "  \u001b[0m\u001b[34;1m\"geometry\"\u001b[0m\u001b[1;39m: \u001b[0m\u001b[1;39m{\n",
      "    \u001b[0m\u001b[34;1m\"type\"\u001b[0m\u001b[1;39m: \u001b[0m\u001b[0;32m\"Polygon\"\u001b[0m\u001b[1;39m,\n",
      "    \u001b[0m\u001b[34;1m\"coordinates\"\u001b[0m\u001b[1;39m: \u001b[0m\u001b[1;39m[\n",
      "      \u001b[1;39m[\n",
      "        \u001b[1;39m[\n",
      "          \u001b[0;39m30.155974613579858\u001b[0m\u001b[1;39m,\n",
      "          \u001b[0;39m28.80949327971016\u001b[0m\u001b[1;39m\n",
      "        \u001b[1;39m]\u001b[0m\u001b[1;39m,\n",
      "        \u001b[1;39m[\n",
      "          \u001b[0;39m30.407037927198104\u001b[0m\u001b[1;39m,\n",
      "          \u001b[0;39m29.805008695373978\u001b[0m\u001b[1;39m\n",
      "        \u001b[1;39m]\u001b[0m\u001b[1;39m,\n",
      "        \u001b[1;39m[\n",
      "          \u001b[0;39m31.031551610920825\u001b[0m\u001b[1;39m,\n",
      "          \u001b[0;39m29.815791988006527\u001b[0m\u001b[1;39m\n",
      "        \u001b[1;39m]\u001b[0m\u001b[1;39m,\n",
      "        \u001b[1;39m[\n",
      "          \u001b[0;39m31.050481437029678\u001b[0m\u001b[1;39m,\n",
      "          \u001b[0;39m28.825387639743422\u001b[0m\u001b[1;39m\n",
      "        \u001b[1;39m]\u001b[0m\u001b[1;39m,\n",
      "        \u001b[1;39m[\n",
      "          \u001b[0;39m30.155974613579858\u001b[0m\u001b[1;39m,\n",
      "          \u001b[0;39m28.80949327971016\u001b[0m\u001b[1;39m\n",
      "        \u001b[1;39m]\u001b[0m\u001b[1;39m\n",
      "      \u001b[1;39m]\u001b[0m\u001b[1;39m\n",
      "    \u001b[1;39m]\u001b[0m\u001b[1;39m\n",
      "  \u001b[1;39m}\u001b[0m\u001b[1;39m,\n",
      "  \u001b[0m\u001b[34;1m\"properties\"\u001b[0m\u001b[1;39m: \u001b[0m\u001b[1;39m{\n",
      "    \u001b[0m\u001b[34;1m\"datetime\"\u001b[0m\u001b[1;39m: \u001b[0m\u001b[0;32m\"2019-12-05T08:42:04Z\"\u001b[0m\u001b[1;39m,\n",
      "    \u001b[0m\u001b[34;1m\"platform\"\u001b[0m\u001b[1;39m: \u001b[0m\u001b[0;32m\"sentinel-2b\"\u001b[0m\u001b[1;39m,\n",
      "    \u001b[0m\u001b[34;1m\"constellation\"\u001b[0m\u001b[1;39m: \u001b[0m\u001b[0;32m\"sentinel-2\"\u001b[0m\u001b[1;39m,\n",
      "    \u001b[0m\u001b[34;1m\"instruments\"\u001b[0m\u001b[1;39m: \u001b[0m\u001b[1;39m[\n",
      "      \u001b[0;32m\"msi\"\u001b[0m\u001b[1;39m\n",
      "    \u001b[1;39m]\u001b[0m\u001b[1;39m,\n",
      "    \u001b[0m\u001b[34;1m\"gsd\"\u001b[0m\u001b[1;39m: \u001b[0m\u001b[0;39m10\u001b[0m\u001b[1;39m,\n",
      "    \u001b[0m\u001b[34;1m\"data_coverage\"\u001b[0m\u001b[1;39m: \u001b[0m\u001b[0;39m67.28\u001b[0m\u001b[1;39m,\n",
      "    \u001b[0m\u001b[34;1m\"view:off_nadir\"\u001b[0m\u001b[1;39m: \u001b[0m\u001b[0;39m0\u001b[0m\u001b[1;39m,\n",
      "    \u001b[0m\u001b[34;1m\"eo:cloud_cover\"\u001b[0m\u001b[1;39m: \u001b[0m\u001b[0;39m2.75\u001b[0m\u001b[1;39m,\n",
      "    \u001b[0m\u001b[34;1m\"proj:epsg\"\u001b[0m\u001b[1;39m: \u001b[0m\u001b[0;39m32636\u001b[0m\u001b[1;39m,\n",
      "    \u001b[0m\u001b[34;1m\"sentinel:latitude_band\"\u001b[0m\u001b[1;39m: \u001b[0m\u001b[0;32m\"R\"\u001b[0m\u001b[1;39m,\n",
      "    \u001b[0m\u001b[34;1m\"sentinel:grid_square\"\u001b[0m\u001b[1;39m: \u001b[0m\u001b[0;32m\"TT\"\u001b[0m\u001b[1;39m,\n",
      "    \u001b[0m\u001b[34;1m\"sentinel:sequence\"\u001b[0m\u001b[1;39m: \u001b[0m\u001b[0;32m\"0\"\u001b[0m\u001b[1;39m,\n",
      "    \u001b[0m\u001b[34;1m\"sentinel:product_id\"\u001b[0m\u001b[1;39m: \u001b[0m\u001b[0;32m\"S2B_MSIL2A_20191205T083229_N0213_R021_T36RTT_20191205T111147\"\u001b[0m\u001b[1;39m,\n",
      "    \u001b[0m\u001b[34;1m\"created\"\u001b[0m\u001b[1;39m: \u001b[0m\u001b[0;32m\"2020-09-05T06:12:56.899Z\"\u001b[0m\u001b[1;39m,\n",
      "    \u001b[0m\u001b[34;1m\"updated\"\u001b[0m\u001b[1;39m: \u001b[0m\u001b[0;32m\"2020-09-05T06:12:56.899Z\"\u001b[0m\u001b[1;39m,\n",
      "    \u001b[0m\u001b[34;1m\"sentinel:valid_cloud_cover\"\u001b[0m\u001b[1;39m: \u001b[0m\u001b[0;39mtrue\u001b[0m\u001b[1;39m,\n",
      "    \u001b[0m\u001b[34;1m\"sentinel:utm_zone\"\u001b[0m\u001b[1;39m: \u001b[0m\u001b[0;39m36\u001b[0m\u001b[1;39m,\n",
      "    \u001b[0m\u001b[34;1m\"sentinel:data_coverage\"\u001b[0m\u001b[1;39m: \u001b[0m\u001b[0;39m67.28\u001b[0m\u001b[1;39m\n",
      "  \u001b[1;39m}\u001b[0m\u001b[1;39m,\n",
      "  \u001b[0m\u001b[34;1m\"bbox\"\u001b[0m\u001b[1;39m: \u001b[0m\u001b[1;39m[\n",
      "    \u001b[0;39m30.155974613579858\u001b[0m\u001b[1;39m,\n",
      "    \u001b[0;39m28.80949327971016\u001b[0m\u001b[1;39m,\n",
      "    \u001b[0;39m31.050481437029678\u001b[0m\u001b[1;39m,\n",
      "    \u001b[0;39m29.815791988006527\u001b[0m\u001b[1;39m\n",
      "  \u001b[1;39m]\u001b[0m\u001b[1;39m,\n",
      "  \u001b[0m\u001b[34;1m\"assets\"\u001b[0m\u001b[1;39m: \u001b[0m\u001b[1;39m{\n",
      "    \u001b[0m\u001b[34;1m\"ndvi\"\u001b[0m\u001b[1;39m: \u001b[0m\u001b[1;39m{\n",
      "      \u001b[0m\u001b[34;1m\"type\"\u001b[0m\u001b[1;39m: \u001b[0m\u001b[0;32m\"image/tiff; profile=cloud-optimized; application=geotiff\"\u001b[0m\u001b[1;39m,\n",
      "      \u001b[0m\u001b[34;1m\"roles\"\u001b[0m\u001b[1;39m: \u001b[0m\u001b[1;39m[\n",
      "        \u001b[0;32m\"data\"\u001b[0m\u001b[1;39m\n",
      "      \u001b[1;39m]\u001b[0m\u001b[1;39m,\n",
      "      \u001b[0m\u001b[34;1m\"href\"\u001b[0m\u001b[1;39m: \u001b[0m\u001b[0;32m\"ndvi.tif\"\u001b[0m\u001b[1;39m,\n",
      "      \u001b[0m\u001b[34;1m\"s-expression\"\u001b[0m\u001b[1;39m: \u001b[0m\u001b[0;32m\"(/ (- B05 B03) (+ B05 B03))\"\u001b[0m\u001b[1;39m,\n",
      "      \u001b[0m\u001b[34;1m\"file:size\"\u001b[0m\u001b[1;39m: \u001b[0m\u001b[0;39m358224440\u001b[0m\u001b[1;39m\n",
      "    \u001b[1;39m}\u001b[0m\u001b[1;39m\n",
      "  \u001b[1;39m}\u001b[0m\u001b[1;39m,\n",
      "  \u001b[0m\u001b[34;1m\"links\"\u001b[0m\u001b[1;39m: \u001b[0m\u001b[1;39m[\n",
      "    \u001b[1;39m{\n",
      "      \u001b[0m\u001b[34;1m\"type\"\u001b[0m\u001b[1;39m: \u001b[0m\u001b[0;32m\"application/json\"\u001b[0m\u001b[1;39m,\n",
      "      \u001b[0m\u001b[34;1m\"rel\"\u001b[0m\u001b[1;39m: \u001b[0m\u001b[0;32m\"parent\"\u001b[0m\u001b[1;39m,\n",
      "      \u001b[0m\u001b[34;1m\"href\"\u001b[0m\u001b[1;39m: \u001b[0m\u001b[0;32m\"../catalog.json\"\u001b[0m\u001b[1;39m\n",
      "    \u001b[1;39m}\u001b[0m\u001b[1;39m,\n",
      "    \u001b[1;39m{\n",
      "      \u001b[0m\u001b[34;1m\"type\"\u001b[0m\u001b[1;39m: \u001b[0m\u001b[0;32m\"application/geo+json\"\u001b[0m\u001b[1;39m,\n",
      "      \u001b[0m\u001b[34;1m\"rel\"\u001b[0m\u001b[1;39m: \u001b[0m\u001b[0;32m\"self\"\u001b[0m\u001b[1;39m,\n",
      "      \u001b[0m\u001b[34;1m\"href\"\u001b[0m\u001b[1;39m: \u001b[0m\u001b[0;32m\"s3://processingresults/wf-b2714c22-e64d-11ec-9ad3-ee5865a852f9/S2B_36RTT_20191205_0_L2A/S2B_36RTT_20191205_0_L2A.json\"\u001b[0m\u001b[1;39m\n",
      "    \u001b[1;39m}\u001b[0m\u001b[1;39m,\n",
      "    \u001b[1;39m{\n",
      "      \u001b[0m\u001b[34;1m\"type\"\u001b[0m\u001b[1;39m: \u001b[0m\u001b[0;32m\"application/json\"\u001b[0m\u001b[1;39m,\n",
      "      \u001b[0m\u001b[34;1m\"rel\"\u001b[0m\u001b[1;39m: \u001b[0m\u001b[0;32m\"root\"\u001b[0m\u001b[1;39m,\n",
      "      \u001b[0m\u001b[34;1m\"href\"\u001b[0m\u001b[1;39m: \u001b[0m\u001b[0;32m\"s3://processingresults/wf-b2714c22-e64d-11ec-9ad3-ee5865a852f9/catalog.json\"\u001b[0m\u001b[1;39m\n",
      "    \u001b[1;39m}\u001b[0m\u001b[1;39m\n",
      "  \u001b[1;39m]\u001b[0m\u001b[1;39m\n",
      "\u001b[1;39m}\u001b[0m\n"
     ]
    }
   ],
   "source": [
    "!cat S2B_36RTT_20191205_0_L2A.json | jq"
   ]
  },
  {
   "cell_type": "code",
   "execution_count": 8,
   "metadata": {},
   "outputs": [
    {
     "name": "stdout",
     "output_type": "stream",
     "text": [
      "rm: cannot remove 'ndvi.tif': No such file or directory\n",
      "download: 's3://processingresults/wf-b2714c22-e64d-11ec-9ad3-ee5865a852f9/S2B_36RTT_20191205_0_L2A/ndvi.tif' -> './ndvi.tif'  [1 of 1]\n",
      " 358224440 of 358224440   100% in   37s     9.12 MB/s  done\n"
     ]
    }
   ],
   "source": [
    "!rm ndvi.tif ; s3cmd get s3://processingresults/wf-b2714c22-e64d-11ec-9ad3-ee5865a852f9/S2B_36RTT_20191205_0_L2A/ndvi.tif"
   ]
  },
  {
   "cell_type": "code",
   "execution_count": 1,
   "metadata": {},
   "outputs": [
    {
     "data": {
      "image/png": "[encoded data removed]",
      "text/plain": [
       "<Figure size 432x288 with 1 Axes>"
      ]
     },
     "metadata": {
      "needs_background": "light"
     },
     "output_type": "display_data"
    },
    {
     "data": {
      "text/plain": [
       "<AxesSubplot:>"
      ]
     },
     "execution_count": 1,
     "metadata": {},
     "output_type": "execute_result"
    }
   ],
   "source": [
    "import rasterio\n",
    "from rasterio.plot import show\n",
    "fp = r'ndvi.tif'\n",
    "img = rasterio.open(fp)\n",
    "show(img)"
   ]
  },
  {
   "cell_type": "code",
   "execution_count": 2,
   "metadata": {},
   "outputs": [
    {
     "name": "stdout",
     "output_type": "stream",
     "text": [
      "Do some cleanup\n"
     ]
    }
   ],
   "source": [
    "%%bash\n",
    "echo \"Do some cleanup\"\n",
    "rm ndvi.tif\n",
    "rm *json\n"
   ]
  }
 ],
 "metadata": {
  "kernelspec": {
   "display_name": "Python 3",
   "language": "python",
   "name": "python3"
  },
  "language_info": {
   "codemirror_mode": {
    "name": "ipython",
    "version": 3
   },
   "file_extension": ".py",
   "mimetype": "text/x-python",
   "name": "python",
   "nbconvert_exporter": "python",
   "pygments_lexer": "ipython3",
   "version": "3.8.5"
  }
 },
 "nbformat": 4,
 "nbformat_minor": 4
}
