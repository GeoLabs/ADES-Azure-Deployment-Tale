{
 "cells": [
  {
   "cell_type": "markdown",
   "metadata": {},
   "source": [
    "# Introduction\n",
    "\n",
    "## Kubectl client version\n",
    "\n",
    "Firs of all let's take a look at the kubectl client version.\n"
   ]
  },
  {
   "cell_type": "code",
   "execution_count": 34,
   "metadata": {},
   "outputs": [
    {
     "name": "stdout",
     "output_type": "stream",
     "text": [
      "{\n",
      "  \"clientVersion\": {\n",
      "    \"major\": \"1\",\n",
      "    \"minor\": \"24\",\n",
      "    \"gitVersion\": \"v1.24.1\",\n",
      "    \"gitCommit\": \"3ddd0f45aa91e2f30c70734b175631bec5b5825a\",\n",
      "    \"gitTreeState\": \"clean\",\n",
      "    \"buildDate\": \"2022-05-24T12:26:19Z\",\n",
      "    \"goVersion\": \"go1.18.2\",\n",
      "    \"compiler\": \"gc\",\n",
      "    \"platform\": \"linux/amd64\"\n",
      "  },\n",
      "  \"kustomizeVersion\": \"v4.5.4\"\n",
      "}\n"
     ]
    }
   ],
   "source": [
    "!kubectl version --client -o json "
   ]
  },
  {
   "cell_type": "markdown",
   "metadata": {},
   "source": [
    "## Azure client\n",
    "\n",
    "Firsr of all, let's take a look at the Azure client version.\n"
   ]
  },
  {
   "cell_type": "code",
   "execution_count": 35,
   "metadata": {},
   "outputs": [
    {
     "name": "stdout",
     "output_type": "stream",
     "text": [
      "{\n",
      "  \"azure-cli\": \"2.37.0\",\n",
      "  \"azure-cli-core\": \"2.37.0\",\n",
      "  \"azure-cli-telemetry\": \"1.0.6\",\n",
      "  \"extensions\": {}\n",
      "}\n"
     ]
    }
   ],
   "source": [
    "!az version"
   ]
  },
  {
   "cell_type": "markdown",
   "metadata": {},
   "source": [
    "### Before you start\n",
    "\n",
    "Please, make sure to have setup a [Kubernetes cluster on Microsoft Azure](https://github.com/GeoLabs/ADES-Azure-Introduction-tale/blob/main/BeforeYouStart.md) and use the correct reference to it.\n",
    "\n",
    "\n"
   ]
  },
  {
   "cell_type": "markdown",
   "metadata": {},
   "source": [
    "### Login\n",
    "\n",
    "When you first load this page, you are invited to login to the Azure cluster."
   ]
  },
  {
   "cell_type": "code",
   "execution_count": null,
   "metadata": {},
   "outputs": [],
   "source": [
    "!az login"
   ]
  },
  {
   "cell_type": "code",
   "execution_count": 37,
   "metadata": {},
   "outputs": [],
   "source": [
    "!az account set --subscription VVVVVVVV-WWWW-XXXX-YYYY-ZZZZZZZZZZZZ"
   ]
  },
  {
   "cell_type": "code",
   "execution_count": 148,
   "metadata": {},
   "outputs": [
    {
     "name": "stdout",
     "output_type": "stream",
     "text": [
      "\u001b[93mMerged \"ades-azure-demo-001\" as current context in /home/jovyan/.kube/config\u001b[0m\n"
     ]
    }
   ],
   "source": [
    "!rm -rf ~/.kube ; az aks get-credentials --resource-group ades-azure-demo-001_group --name ades-azure-demo-001"
   ]
  },
  {
   "cell_type": "code",
   "execution_count": 100,
   "metadata": {},
   "outputs": [
    {
     "name": "stdout",
     "output_type": "stream",
     "text": [
      "NAMESPACE     NAME                 READY   UP-TO-DATE   AVAILABLE   AGE\n",
      "kube-system   aks-link             2/2     2            2           35m\n",
      "kube-system   coredns              2/2     2            2           35m\n",
      "kube-system   coredns-autoscaler   1/1     1            1           35m\n",
      "kube-system   metrics-server       1/1     1            1           35m\n",
      "kube-system   omsagent-rs          1/1     1            1           35m\n"
     ]
    }
   ],
   "source": [
    "!kubectl get deployments --all-namespaces=true"
   ]
  },
  {
   "cell_type": "code",
   "execution_count": 115,
   "metadata": {},
   "outputs": [
    {
     "name": "stdout",
     "output_type": "stream",
     "text": [
      "NAMESPACE     NAME                 READY   UP-TO-DATE   AVAILABLE   AGE\n",
      "kube-system   aks-link             2/2     2            2           8m1s\n",
      "kube-system   coredns              5/5     5            5           8m5s\n",
      "kube-system   coredns-autoscaler   1/1     1            1           8m5s\n",
      "kube-system   metrics-server       1/1     1            1           8m5s\n",
      "kube-system   omsagent-rs          1/1     1            1           8m5s\n"
     ]
    }
   ],
   "source": [
    "!kubectl get deployments --all-namespaces=true"
   ]
  },
  {
   "cell_type": "code",
   "execution_count": 77,
   "metadata": {},
   "outputs": [
    {
     "name": "stdout",
     "output_type": "stream",
     "text": [
      "NAMESPACE     NAME                                 READY   STATUS    RESTARTS   AGE\n",
      "kube-system   azure-ip-masq-agent-jhxpc            1/1     Running   0          9m21s\n",
      "kube-system   azure-ip-masq-agent-nhbt9            1/1     Running   0          9m32s\n",
      "kube-system   azure-ip-masq-agent-pnb6d            1/1     Running   0          8m30s\n",
      "kube-system   cloud-node-manager-5ssl6             1/1     Running   0          8m30s\n",
      "kube-system   cloud-node-manager-c87g7             1/1     Running   0          9m21s\n",
      "kube-system   cloud-node-manager-xncpw             1/1     Running   0          9m32s\n",
      "kube-system   coredns-autoscaler-7d56cd888-c6xq6   1/1     Running   0          10m\n",
      "kube-system   coredns-dc97c5f55-7v5rt              1/1     Running   0          8m41s\n",
      "kube-system   coredns-dc97c5f55-zp8rd              1/1     Running   0          10m\n",
      "kube-system   csi-azuredisk-node-qsvtq             3/3     Running   0          9m21s\n",
      "kube-system   csi-azuredisk-node-s5rfp             3/3     Running   0          9m32s\n",
      "kube-system   csi-azuredisk-node-zgdg4             3/3     Running   0          8m30s\n",
      "kube-system   csi-azurefile-node-49txg             3/3     Running   0          8m30s\n",
      "kube-system   csi-azurefile-node-f7n9p             3/3     Running   0          9m32s\n",
      "kube-system   csi-azurefile-node-n8qbz             3/3     Running   0          9m21s\n",
      "kube-system   kube-proxy-6czf7                     1/1     Running   0          9m32s\n",
      "kube-system   kube-proxy-6qcc6                     1/1     Running   0          9m21s\n",
      "kube-system   kube-proxy-sndj5                     1/1     Running   0          8m30s\n",
      "kube-system   metrics-server-64b66fbbc8-xpwbq      1/1     Running   0          10m\n",
      "kube-system   tunnelfront-77758f68f5-fg5xv         1/1     Running   0          10m\n"
     ]
    }
   ],
   "source": [
    "!kubectl get pods --all-namespaces=true"
   ]
  },
  {
   "cell_type": "markdown",
   "metadata": {},
   "source": [
    "# MiniIO\n",
    "\n"
   ]
  },
  {
   "cell_type": "code",
   "execution_count": 117,
   "metadata": {},
   "outputs": [
    {
     "name": "stdout",
     "output_type": "stream",
     "text": [
      "namespace/minio created\n"
     ]
    }
   ],
   "source": [
    "!kubectl create ns minio"
   ]
  },
  {
   "cell_type": "code",
   "execution_count": 118,
   "metadata": {},
   "outputs": [
    {
     "name": "stdout",
     "output_type": "stream",
     "text": [
      "persistentvolumeclaim/my-minio-fs-pvc created\n",
      "deployment.apps/my-minio-fs created\n"
     ]
    }
   ],
   "source": [
    "!kubectl create -f k8s/my-minio-fs.yaml -n minio"
   ]
  },
  {
   "cell_type": "code",
   "execution_count": 120,
   "metadata": {},
   "outputs": [
    {
     "name": "stdout",
     "output_type": "stream",
     "text": [
      "service/my-minio-fs exposed\n"
     ]
    }
   ],
   "source": [
    "!kubectl expose deployment/my-minio-fs --type=\"NodePort\" --port 9000 -n minio"
   ]
  },
  {
   "cell_type": "code",
   "execution_count": 119,
   "metadata": {},
   "outputs": [
    {
     "name": "stdout",
     "output_type": "stream",
     "text": [
      "run sh k8s/startMinio.sh from a terminal\n"
     ]
    }
   ],
   "source": [
    "!echo \"run sh k8s/startMinio.sh from a terminal\""
   ]
  },
  {
   "cell_type": "code",
   "execution_count": 121,
   "metadata": {},
   "outputs": [
    {
     "name": "stdout",
     "output_type": "stream",
     "text": [
      "*   Trying 127.0.0.1...\n",
      "* TCP_NODELAY set\n",
      "* Connected to 127.0.0.1 (127.0.0.1) port 9000 (#0)\n",
      "> GET /minio HTTP/1.1\n",
      "> Host: 127.0.0.1:9000\n",
      "> User-Agent: curl/7.58.0\n",
      "> Accept: */*\n",
      "> \n",
      "< HTTP/1.1 403 Forbidden\n",
      "< Accept-Ranges: bytes\n",
      "< Content-Type: application/xml\n",
      "< Server: Minio/RELEASE.2017-11-22T19-55-46Z (linux; amd64)\n",
      "< Vary: Origin\n",
      "< X-Amz-Request-Id: 16F64E15EC62EFFE\n",
      "< Date: Tue, 07 Jun 2022 09:56:09 GMT\n",
      "< Transfer-Encoding: chunked\n",
      "< \n",
      "<?xml version=\"1.0\" encoding=\"UTF-8\"?>\n",
      "* Connection #0 to host 127.0.0.1 left intact\n",
      "<Error><Code>AllAccessDisabled</Code><Message>All access to this bucket has been disabled.</Message><Key></Key><BucketName></BucketName><Resource>/minio</Resource><RequestId>3L137</RequestId><HostId>3L137</HostId></Error>"
     ]
    }
   ],
   "source": [
    "!curl http://127.0.0.1:9000/minio -v"
   ]
  },
  {
   "cell_type": "markdown",
   "metadata": {},
   "source": [
    "# Install ADES on Kubernetes cluster\n",
    "\n",
    "This section guides you through the deploy of the Ades on a Kubernetes cluster.\n",
    "\n",
    "## Create a dedicated namespace for the ADES\n",
    "\n",
    "This namespace will be reserved for the operation of the ADES in order to separate the ADES proper execution from its processings job on kubernetes.\n",
    "\n",
    "For instance, let's create namespace `eoepca`\n"
   ]
  },
  {
   "cell_type": "code",
   "execution_count": 122,
   "metadata": {},
   "outputs": [
    {
     "name": "stdout",
     "output_type": "stream",
     "text": [
      "namespace/eoepca created\n"
     ]
    }
   ],
   "source": [
    "!kubectl create namespace eoepca"
   ]
  },
  {
   "cell_type": "markdown",
   "metadata": {},
   "source": [
    "## Deploy using Helm\n",
    "\n",
    "The ADES is \"installed\" via helm specifying an optional \"release name\".\n",
    "\n",
    "for instance, we will install the ADES with the name `ades`.\n"
   ]
  },
  {
   "cell_type": "code",
   "execution_count": 123,
   "metadata": {},
   "outputs": [
    {
     "name": "stdout",
     "output_type": "stream",
     "text": [
      "Cloning into 'proc-ades'...\n",
      "remote: Enumerating objects: 8535, done.\u001b[K\n",
      "remote: Counting objects: 100% (84/84), done.\u001b[K\n",
      "remote: Compressing objects: 100% (36/36), done.\u001b[K\n",
      "remote: Total 8535 (delta 61), reused 53 (delta 47), pack-reused 8451\u001b[K\n",
      "Receiving objects: 100% (8535/8535), 12.88 MiB | 22.39 MiB/s, done.\n",
      "Resolving deltas: 100% (4485/4485), done.\n"
     ]
    }
   ],
   "source": [
    "!cd ; rm -rf proc-ades ; \\\n",
    "    git clone https://github.com/EOEPCA/proc-ades.git ; \\\n",
    "    cp ${REPO_DIR}/k8s/values.testbed18.geolabs.yaml proc-ades/charts/ades/values.yaml"
   ]
  },
  {
   "cell_type": "code",
   "execution_count": 124,
   "metadata": {},
   "outputs": [
    {
     "name": "stdout",
     "output_type": "stream",
     "text": [
      "W0607 09:56:30.208588    5014 warnings.go:70] policy/v1beta1 PodSecurityPolicy is deprecated in v1.21+, unavailable in v1.25+\n",
      "W0607 09:56:35.968684    5014 warnings.go:70] policy/v1beta1 PodSecurityPolicy is deprecated in v1.21+, unavailable in v1.25+\n",
      "NAME: ades\n",
      "LAST DEPLOYED: Tue Jun  7 09:56:29 2022\n",
      "NAMESPACE: eoepca\n",
      "STATUS: deployed\n",
      "REVISION: 1\n",
      "NOTES:\n",
      "1. Get the application URL by running these commands:\n",
      "  export POD_NAME=$(kubectl get pods --namespace eoepca -l \"app.kubernetes.io/name=ades,app.kubernetes.io/instance=ades\" -o jsonpath=\"{.items[0].metadata.name}\")\n",
      "  echo \"Visit http://127.0.0.1:8080 to use your application\"\n",
      "  kubectl --namespace eoepca port-forward $POD_NAME 8080:80\n"
     ]
    }
   ],
   "source": [
    "!cd ; cd proc-ades ; helm install ades charts/ades/ --namespace eoepca"
   ]
  },
  {
   "cell_type": "code",
   "execution_count": 147,
   "metadata": {},
   "outputs": [
    {
     "name": "stdout",
     "output_type": "stream",
     "text": [
      "NAME                              READY   STATUS    RESTARTS   AGE\n",
      "ades-69cb587757-pxk7j             1/1     Running   0          30m\n",
      "ades-kubeproxy-84b47f7f66-pwcvp   1/1     Running   0          30m\n"
     ]
    }
   ],
   "source": [
    "!kubectl get pods --namespace eoepca"
   ]
  },
  {
   "cell_type": "code",
   "execution_count": 128,
   "metadata": {},
   "outputs": [
    {
     "name": "stdout",
     "output_type": "stream",
     "text": [
      "NAME   TYPE        CLUSTER-IP    EXTERNAL-IP   PORT(S)   AGE\n",
      "ades   ClusterIP   10.0.249.33   <none>        80/TCP    61s\n"
     ]
    }
   ],
   "source": [
    "!kubectl get service ades --namespace eoepca"
   ]
  },
  {
   "cell_type": "markdown",
   "metadata": {},
   "source": [
    "## Access the application endpoint\n",
    "\n",
    "Get the application URL by running these commands:\n",
    "\n"
   ]
  },
  {
   "cell_type": "code",
   "execution_count": 132,
   "metadata": {},
   "outputs": [
    {
     "name": "stdout",
     "output_type": "stream",
     "text": [
      "run the following command: export POD_NAME=$(kubectl get pods --namespace eoepca -l \"app.kubernetes.io/name=ades,app.kubernetes.io/instance=ades\" -o jsonpath=\"{.items[0].metadata.name}\") ; kubectl --namespace eoepca port-forward $POD_NAME 8080:80 from a terminal\n"
     ]
    }
   ],
   "source": [
    "!echo 'run the following command: export POD_NAME=$(kubectl get pods --namespace eoepca -l \"app.kubernetes.io/name=ades,app.kubernetes.io/instance=ades\" -o jsonpath=\"{.items[0].metadata.name}\") ; kubectl --namespace eoepca port-forward $POD_NAME 8080:80 from a terminal'"
   ]
  },
  {
   "cell_type": "markdown",
   "metadata": {},
   "source": [
    "The Ades is now deployed on your Kubernetes cluster and is ready to use. The WPS endpoint is reachable on the port 8080, to see how to make a request please proceed to the section [ADES/Introduction](ADES/Introduction.ipynb)."
   ]
  }
 ],
 "metadata": {
  "kernelspec": {
   "display_name": "Python 3",
   "language": "python",
   "name": "python3"
  },
  "language_info": {
   "codemirror_mode": {
    "name": "ipython",
    "version": 3
   },
   "file_extension": ".py",
   "mimetype": "text/x-python",
   "name": "python",
   "nbconvert_exporter": "python",
   "pygments_lexer": "ipython3",
   "version": "3.8.5"
  }
 },
 "nbformat": 4,
 "nbformat_minor": 4
}
